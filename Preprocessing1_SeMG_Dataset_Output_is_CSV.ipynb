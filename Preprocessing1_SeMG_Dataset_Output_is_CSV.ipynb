{
 "cells": [
  {
   "cell_type": "markdown",
   "metadata": {
    "id": "1DKKDc-3rPha"
   },
   "source": [
    "# Fetch swallow dataset\n",
    "(best to do this part locally and then upload the output folder to google drive - it's pretty big initially)\n",
    "\n",
    "download the sEMG dataset for swallows: https://rdr.ucl.ac.uk/articles/dataset/sEMG_of_Swallowing_Coughing_and_Speech/24297766"
   ]
  },
  {
   "cell_type": "code",
   "execution_count": 2,
   "metadata": {
    "id": "rj5k09hmnnnQ"
   },
   "outputs": [],
   "source": [
    "#IMPORTS\n",
    "\n",
    "#machine learning libs\n",
    "import torch\n",
    "import torch.nn as nn\n",
    "import numpy as np\n",
    "\n",
    "#dsp libraries\n",
    "import torchaudio\n",
    "import librosa\n",
    "\n",
    "#file handling libs\n",
    "import os\n",
    "import csv\n",
    "import shutil\n",
    "import pandas as pd\n",
    "\n",
    "#visualisation libs\n",
    "from PIL import Image\n",
    "import matplotlib.pyplot as plt"
   ]
  },
  {
   "cell_type": "markdown",
   "metadata": {
    "id": "MmI786IlnvO7"
   },
   "source": [
    "# Step 1: Filter for just swallow dataset from sEMG"
   ]
  },
  {
   "cell_type": "code",
   "execution_count": 3,
   "metadata": {
    "id": "nc1bqLDOnzGb"
   },
   "outputs": [],
   "source": [
    "def bring_all_to1(source_directory, output_directory):\n",
    "    \"\"\"\n",
    "    Copies all CSV files containing the word \"swallow\" in their filenames from the source directory\n",
    "    and its subdirectories to the output directory.\n",
    "\n",
    "    Args:\n",
    "        source_directory (str): Path to the directory to search for files.\n",
    "        output_directory (str): Path to the directory where the files will be copied.\n",
    "\n",
    "    Returns:\n",
    "        None\n",
    "    \"\"\"\n",
    "    # Create the output directory if it doesn't exist\n",
    "    if not os.path.exists(output_directory):\n",
    "        os.makedirs(output_directory)\n",
    "\n",
    "    # Walk through the source directory and its subdirectories\n",
    "    for root, dirs, files in os.walk(source_directory):\n",
    "        for filename in files:\n",
    "            if filename.endswith('.csv'):\n",
    "                # Check if \"swallow\" is in the filename (case-insensitive)\n",
    "                if \"swallow\" in filename.lower():\n",
    "                    src_file_path = os.path.join(root, filename)  # Full path to the source file\n",
    "                    dest_file_path = os.path.join(output_directory, filename)  # Full path to the destination file\n",
    "                    shutil.copy2(src_file_path, dest_file_path)  # Copy the file\n",
    "                    # Uncomment the next line to print details of each copied file\n",
    "                    # print(f\"Copied file: {src_file_path} to {dest_file_path}\")\n",
    "\n",
    "    print(\"Copied all swallow files\")\n",
    "\n",
    "# Example use\n",
    "# directory = \"./sEMG_of_Swallow_Cough_and_Speech/Processed\"\n",
    "# output_directory = \"./Orig_CSV_Files\"\n",
    "# bring_all_to1(directory, output_directory)\n"
   ]
  },
  {
   "cell_type": "code",
   "execution_count": 4,
   "metadata": {
    "id": "9nue9jQVoO_9"
   },
   "outputs": [
    {
     "name": "stdout",
     "output_type": "stream",
     "text": [
      "All filenames are unique.\n"
     ]
    }
   ],
   "source": [
    "def check_unique_audio_filenames(directory, extensions=('.wav', '.mp3')):\n",
    "    \"\"\"\n",
    "    Checks if all audio filenames in the specified directory are unique.\n",
    "\n",
    "    Args:\n",
    "        directory (str): Path to the directory to check for duplicate filenames.\n",
    "        extensions (tuple, optional): Tuple of file extensions to consider as audio files. Default is ('.wav', '.mp3').\n",
    "\n",
    "    Returns:\n",
    "        bool: True if all filenames are unique, False if there are duplicates.\n",
    "    \"\"\"\n",
    "    filenames = set()  # Set to store unique filenames\n",
    "    duplicate_filenames = set()  # Set to store duplicate filenames\n",
    "\n",
    "    # Traverse the directory and its subdirectories\n",
    "    for root, dirs, files in os.walk(directory):\n",
    "        for filename in files:\n",
    "            if filename.endswith(extensions):  # Check if the file has a valid audio extension\n",
    "                if filename in filenames:\n",
    "                    duplicate_filenames.add(filename)  # Add to duplicates if already in the set\n",
    "                else:\n",
    "                    filenames.add(filename)  # Add to unique filenames set\n",
    "\n",
    "    # Check if any duplicates were found\n",
    "    if duplicate_filenames:\n",
    "        print(\"Duplicate filenames found:\")\n",
    "        for dup in duplicate_filenames:\n",
    "            print(dup)  # Print each duplicate filename\n",
    "        return False\n",
    "    else:\n",
    "        print(\"All filenames are unique.\")\n",
    "        return True\n",
    "\n",
    "# Directory to check for unique audio filenames\n",
    "directory = \"./Orig_CSV_Files\"\n",
    "\n",
    "# Check if filenames are unique\n",
    "are_filenames_unique = check_unique_audio_filenames(directory)\n"
   ]
  },
  {
   "cell_type": "markdown",
   "metadata": {
    "id": "0RxsKJFPpEX3"
   },
   "source": [
    "# Step 2: change CSV File to contain only contact microphone values and labels\n",
    "\n",
    "orig csv setup columns: **EMG-submental,EMG-intercostal,,EMG-diaphragm,pneumotachometry, contact microphone, class labels**\n",
    "\n",
    "Target csv setup columns: **contact microphone, class labels**)"
   ]
  },
  {
   "cell_type": "code",
   "execution_count": null,
   "metadata": {
    "id": "ZDR4Q5_Mop6e"
   },
   "outputs": [],
   "source": [
    "import os\n",
    "import pandas as pd\n",
    "\n",
    "def keep_last_two_columns_in_csv(directory):\n",
    "    \"\"\"\n",
    "    Processes each CSV file in the specified directory, retaining only the last two columns in each file.\n",
    "\n",
    "    Args:\n",
    "        directory (str): Path to the directory containing the CSV files to be processed.\n",
    "\n",
    "    Returns:\n",
    "        None\n",
    "    \"\"\"\n",
    "    # Iterate over all files in the specified directory\n",
    "    for filename in os.listdir(directory):\n",
    "        csv_file_path = os.path.join(directory, filename)  # Full path to the CSV file\n",
    "        df = pd.read_csv(csv_file_path)  # Read the CSV file into a DataFrame\n",
    "\n",
    "        # Check if the DataFrame has at least two columns\n",
    "        if len(df.columns) >= 2:\n",
    "            df_modified = df.iloc[:, -2:]  # Keep only the last two columns\n",
    "            df_modified.to_csv(csv_file_path, index=False)  # Save the modified DataFrame back to the CSV file\n",
    "            # Uncomment the next line to print details of each processed file\n",
    "            # print(f\"Processed file: {csv_file_path}\")\n",
    "        else:\n",
    "            continue  # Skip files that do not have enough columns\n",
    "            # Uncomment the next line to print a message for files with insufficient columns\n",
    "            # print(f\"File {csv_file_path} does not have enough columns.\")\n",
    "\n",
    "    print(\"Done\")\n",
    "\n",
    "# Example usage\n",
    "# directory = \"./Orig_CSV_Files\"  # Specify the directory containing the CSV files\n",
    "# keep_last_two_columns_in_csv(directory)\n"
   ]
  },
  {
   "cell_type": "markdown",
   "metadata": {
    "id": "Qt0wCQL6peiL"
   },
   "source": [
    "# Step 3: Remove all unnecessary labels\n",
    "\n",
    "Original label setup:\n",
    "- 0 - Null (anything outside the other classes)\n",
    "- 1 - Swallow phase 1 (preparation activity for swallowing such as chewing, sipping etc.)\n",
    "- 2 - Swallow phase 2 (swallow reflex, larynx elevation following submental muscle contraction)\n",
    "- 3 - Cough\n",
    "- 4 - Speech\n",
    "\n",
    "Target Label label setup:\n",
    "- 0 - Null (anything outside the other classes)\n",
    "- 1 - Swallow phase 2 (swallow reflex, larynx elevation following submental muscle contraction)\n",
    "- 2 - Cough\n",
    "- Removed labels:\n",
    "    - Swallow phase 1 (preparation activity for swallowing such as chewing, sipping etc.)\n",
    "    - Speech"
   ]
  },
  {
   "cell_type": "code",
   "execution_count": null,
   "metadata": {
    "id": "9TMW21-NpUaK"
   },
   "outputs": [],
   "source": [
    "def update_labels_in_csv(directory):\n",
    "    for filename in os.listdir(directory):\n",
    "        if filename.endswith('.csv'):\n",
    "            csv_file_path = os.path.join(directory, filename)\n",
    "            df = pd.read_csv(csv_file_path)\n",
    "            last_column = df.columns[-1]\n",
    "\n",
    "            # Update labels according to the new class setup\n",
    "            df[last_column] = df[last_column].apply(lambda x: 0 if x in [1, 4] else (1 if x == 2 else (2 if x == 3 else 0)))\n",
    "            df.to_csv(csv_file_path, index=False)\n",
    "    print(\"Processed all files\")\n",
    "\n",
    "\n",
    "directory = \"./Orig_CSV_Files\" # New folder in which all files are stored\n",
    "update_labels_in_csv(directory)\n"
   ]
  },
  {
   "cell_type": "markdown",
   "metadata": {
    "id": "5yeSAK3BqXki"
   },
   "source": [
    "#### Count current total seconds of audio that are swallows and coughs from all audio files\n",
    "All audio files were recorded at 2kHz\n",
    "\n",
    "- Total seconds with label None: 1672.462\n",
    "- Total seconds with label Swallow: 187.7\n",
    "- Total seconds with label Cough: 81.3455"
   ]
  },
  {
   "cell_type": "code",
   "execution_count": 5,
   "metadata": {
    "id": "tvux0krwqYUw"
   },
   "outputs": [
    {
     "name": "stdout",
     "output_type": "stream",
     "text": [
      "Total rows with label 0: 1991894\n",
      "Total rows with label 1: 359481\n",
      "Total rows with label 2: 0\n",
      "Total seconds with label None: 995.947\n",
      "Total seconds with label Swallow: 179.7405\n",
      "Total seconds with label Cough: 0.0\n"
     ]
    }
   ],
   "source": [
    "#count total frames for each label\n",
    "def count_labels_in_csv(directory):\n",
    "    count_label_0 = 0\n",
    "    count_label_1 = 0\n",
    "    count_label_2 = 0\n",
    "\n",
    "    for filename in os.listdir(directory):\n",
    "        if filename.endswith('.csv'):\n",
    "            csv_file_path = os.path.join(directory, filename)\n",
    "            df = pd.read_csv(csv_file_path)\n",
    "\n",
    "            # Get the name of the last column (assuming it's the label column)\n",
    "            last_column = df.columns[-1]\n",
    "\n",
    "            # Count rows with label 0, label 1 and label 2\n",
    "            count_label_0 += (df[last_column] == 0).sum()\n",
    "            count_label_1 += (df[last_column] == 1).sum()\n",
    "            count_label_2 += (df[last_column] == 2).sum()\n",
    "    print(f\"Total rows with label 0: {count_label_0}\")\n",
    "    print(f\"Total rows with label 1: {count_label_1}\")\n",
    "    print(f\"Total rows with label 2: {count_label_2}\")\n",
    "\n",
    "    return count_label_0,count_label_1, count_label_2\n",
    "\n",
    "directory = \"./Orig_CSV_Files\" # New folder in which all files are stored\n",
    "count_label_0,count_label_1, count_label_2 = count_labels_in_csv(directory)\n",
    "\n",
    "#convert to seconds\n",
    "count_seconds_0 = count_label_0/2000\n",
    "count_seconds_1 = count_label_1/2000\n",
    "count_seconds_2 = count_label_2/2000\n",
    "print(f\"Total seconds with label None: {count_seconds_0}\")\n",
    "print(f\"Total seconds with label Swallow: {count_seconds_1}\")\n",
    "print(f\"Total seconds with label Cough: {count_seconds_2}\")"
   ]
  },
  {
   "cell_type": "code",
   "execution_count": null,
   "metadata": {},
   "outputs": [],
   "source": []
  }
 ],
 "metadata": {
  "colab": {
   "provenance": [],
   "toc_visible": true
  },
  "kernelspec": {
   "display_name": "Python 3 (ipykernel)",
   "language": "python",
   "name": "python3"
  },
  "language_info": {
   "codemirror_mode": {
    "name": "ipython",
    "version": 3
   },
   "file_extension": ".py",
   "mimetype": "text/x-python",
   "name": "python",
   "nbconvert_exporter": "python",
   "pygments_lexer": "ipython3",
   "version": "3.10.14"
  }
 },
 "nbformat": 4,
 "nbformat_minor": 4
}
